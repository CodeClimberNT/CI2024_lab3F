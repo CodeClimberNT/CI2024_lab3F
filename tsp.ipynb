{
 "cells": [
  {
   "cell_type": "markdown",
   "metadata": {},
   "source": [
    "## Lab3 - TSP"
   ]
  },
  {
   "cell_type": "code",
   "execution_count": 42,
   "metadata": {},
   "outputs": [],
   "source": [
    "import logging\n",
    "from itertools import combinations\n",
    "import pandas as pd\n",
    "import numpy as np\n",
    "from numpy.typing import NDArray\n",
    "import geopy.distance\n",
    "\n",
    "from joblib import Parallel, delayed  # , dump, load\n",
    "from multiprocessing import cpu_count\n",
    "\n",
    "from tqdm.auto import tqdm\n",
    "# from icecream import ic\n",
    "\n",
    "import os\n",
    "import shutil\n",
    "import matplotlib.pyplot as plt\n",
    "import cv2\n",
    "import re"
   ]
  },
  {
   "cell_type": "markdown",
   "metadata": {},
   "source": [
    "# Setup"
   ]
  },
  {
   "cell_type": "markdown",
   "metadata": {},
   "source": [
    "## Universe"
   ]
  },
  {
   "cell_type": "code",
   "execution_count": 43,
   "metadata": {},
   "outputs": [
    {
     "name": "stdout",
     "output_type": "stream",
     "text": [
      "Loading .cache\\china_dist_matrix.npy\n",
      "Loading .cache\\italy_dist_matrix.npy\n",
      "Loading .cache\\russia_dist_matrix.npy\n",
      "Loading .cache\\us_dist_matrix.npy\n",
      "Loading .cache\\vanuatu_dist_matrix.npy\n",
      "-----------------\n",
      "dict_keys(['china', 'italy', 'russia', 'us', 'vanuatu'])\n",
      "-----------------\n",
      "     name        lat         lon\n",
      "0  Acheng  45.540000  126.960000\n",
      "1    Aksu  41.150000   80.250000\n",
      "2   Alaer  40.515556   81.263611\n",
      "3   Altay  47.840000   88.130000\n",
      "4    Anbu  23.460000  116.680000\n",
      "-----------------\n"
     ]
    }
   ],
   "source": [
    "CITIES_FOLDER: str = \"cities\"\n",
    "# dict[str, float]\n",
    "countries_with_solutions: dict[str, float] = {\n",
    "    \"china\": np.inf,\n",
    "    \"italy\": 4172.76,\n",
    "    \"russia\": 32722.5,\n",
    "    \"us\": 39016.59,\n",
    "    \"vanuatu\": 1345.54,\n",
    "}\n",
    "\n",
    "COUNTRY_NAMES: list[str] = list(countries_with_solutions.keys())\n",
    "\n",
    "\n",
    "def compute_city_dict() -> dict[str, pd.DataFrame]:\n",
    "    \"\"\"\n",
    "    Read the cities from the csv files and return a dictionary of dataframes with the cities of each country\n",
    "    # Return\n",
    "        dictionary of dataframes with the cities of each country\n",
    "        type: dict[str, pd.DataFrame]\n",
    "    \"\"\"\n",
    "    return {\n",
    "        country: pd.read_csv(\n",
    "            os.path.join(CITIES_FOLDER, f\"{country}.csv\"),\n",
    "            header=None,\n",
    "            names=[\"name\", \"lat\", \"lon\"],\n",
    "        )\n",
    "        for country in COUNTRY_NAMES\n",
    "    }\n",
    "\n",
    "\n",
    "def compute_dict_distance_matrices(\n",
    "    countries: dict[str, pd.DataFrame],\n",
    ") -> dict[str, NDArray[np.float64]]:\n",
    "    \"\"\"\n",
    "    Compute the distance matrix for each country\n",
    "    # Return\n",
    "        dictionary of distance matrices for each country\n",
    "        type: dict[str, NDArray[np.float64, np.float64]]\n",
    "        str: country name\n",
    "        NDArray: distance matrix for each city in the country shape (num_cities, num_cities)\n",
    "    \"\"\"\n",
    "\n",
    "    def km_distance(c1, c2):\n",
    "        return geopy.distance.geodesic((c1.lat, c1.lon), (c2.lat, c2.lon)).km\n",
    "\n",
    "    def compute_distance_matrix(city):\n",
    "        distance_matrix: np.ndarray = np.zeros((len(city), len(city)), dtype=np.float64)\n",
    "        for c1, c2 in combinations(city.itertuples(), 2):\n",
    "            distance_matrix[c1.Index, c2.Index] = distance_matrix[\n",
    "                c2.Index, c1.Index\n",
    "            ] = km_distance(c1, c2)\n",
    "\n",
    "        return distance_matrix\n",
    "\n",
    "    def load_or_compute_distance_matrix(country, city):\n",
    "        npy_file = os.path.join(CITIES_FOLDER, f\"{country}_dist_matrix.npy\")\n",
    "        npy_file = os.path.join(\".cache\", f\"{country}_dist_matrix.npy\")\n",
    "        if os.path.exists(npy_file):\n",
    "            print(f\"Loading {npy_file}\")\n",
    "            return np.load(npy_file)\n",
    "        else:\n",
    "            print(f\"Computing {npy_file}\")\n",
    "            distance_matrix = compute_distance_matrix(city)\n",
    "            os.makedirs(\".cache\", exist_ok=True)\n",
    "            np.save(npy_file, distance_matrix)\n",
    "            return distance_matrix\n",
    "\n",
    "    distance_matrices = {}\n",
    "    for country, city in countries.items():\n",
    "        distance_matrices[country] = load_or_compute_distance_matrix(country, city)\n",
    "\n",
    "    return distance_matrices\n",
    "\n",
    "\n",
    "city_by_country_dataframes: dict[str, pd.DataFrame] = compute_city_dict()\n",
    "countries_dist_matrices: dict[str, NDArray[np.float64]] = (\n",
    "    compute_dict_distance_matrices(city_by_country_dataframes)\n",
    ")\n",
    "\n",
    "print(\"-----------------\")\n",
    "print(city_by_country_dataframes.keys())\n",
    "print(\"-----------------\")\n",
    "print(city_by_country_dataframes[list(city_by_country_dataframes.keys())[0]].head())\n",
    "print(\"-----------------\")\n",
    "\n",
    "# for city_name in NATION_NAME:\n",
    "#     city_file_path: str = os.path.join(CITIES_FOLDER, f\"{city_name}.csv\")\n",
    "#     city_dataframes[city_name] = pd.read_csv(\n",
    "#         city_file_path,\n",
    "#         header=None,\n",
    "#         names=[\"name\", \"lat\", \"lon\"],\n",
    "#         # sorting by lat and lon\n",
    "#         # .sort_values(by=[\"lat\", \"lon\"]).reset_index(drop=True)\n",
    "#     )\n",
    "\n",
    "# Asserting the dataframes for linting and debugging (avoid typos and wrong data types)\n",
    "assert len(city_by_country_dataframes) == len(COUNTRY_NAMES)\n",
    "assert type(city_by_country_dataframes[\"china\"]) is pd.DataFrame\n",
    "assert type(city_by_country_dataframes[\"italy\"]) is pd.DataFrame\n",
    "assert type(city_by_country_dataframes[\"russia\"]) is pd.DataFrame\n",
    "assert type(city_by_country_dataframes[\"us\"]) is pd.DataFrame\n",
    "assert type(city_by_country_dataframes[\"vanuatu\"]) is pd.DataFrame\n",
    "\n",
    "\n",
    "# CITIES: pd.DataFrame = city_by_country_dataframes[\"italy\"]\n",
    "# NUM_CITIES: int = len(CITIES)\n",
    "# print(CITIES.head())\n",
    "# DIST_MATRIX: np.ndarray = np.zeros((len(CITIES), len(CITIES)), dtype=np.float64)\n",
    "# for c1, c2 in combinations(CITIES.itertuples(), 2):\n",
    "#     DIST_MATRIX[c1.Index, c2.Index] = DIST_MATRIX[c2.Index, c1.Index] = (\n",
    "#         geopy.distance.geodesic((c1.lat, c1.lon), (c2.lat, c2.lon)).km\n",
    "#     )"
   ]
  },
  {
   "cell_type": "markdown",
   "metadata": {},
   "source": [
    "### Plotting Cities Position"
   ]
  },
  {
   "cell_type": "code",
   "execution_count": null,
   "metadata": {},
   "outputs": [
    {
     "data": {
      "image/png": "[encoded data removed]",
      "text/plain": [
       "<Figure size 1000x1500 with 5 Axes>"
      ]
     },
     "metadata": {},
     "output_type": "display_data"
    }
   ],
   "source": [
    "fig, axs = plt.subplots(3, 2, figsize=(10, 15))\n",
    "axs = axs.flatten()\n",
    "\n",
    "for i, country_name in enumerate(city_by_country_dataframes):\n",
    "    country_data = city_by_country_dataframes[country_name]\n",
    "    axs[i].scatter(country_data[\"lon\"], country_data[\"lat\"], c=\"blue\", marker=\"o\")\n",
    "    # To display the city names, but since a lot of cities\n",
    "    # are displayed close together, it is not readable\n",
    "    # for _, city in country_data.iterrows():\n",
    "    #     axs[i].text(city[\"lon\"], city[\"lat\"], city[\"name\"], fontsize=9)\n",
    "    axs[i].set_xlabel(\"Longitude\")\n",
    "    axs[i].set_ylabel(\"Latitude\")\n",
    "    axs[i].set_title(\n",
    "        f\"Cities in {country_name} - Best Route Length: {countries_with_solutions[country_name]}km\"\n",
    "    )\n",
    "    axs[i].grid(True)\n",
    "\n",
    "# Remove empty subplot in the bottom right position\n",
    "fig.delaxes(axs[5])\n",
    "\n",
    "plt.tight_layout()\n",
    "plt.show()"
   ]
  },
  {
   "cell_type": "markdown",
   "metadata": {},
   "source": [
    "## Output Folders"
   ]
  },
  {
   "cell_type": "code",
   "execution_count": 45,
   "metadata": {},
   "outputs": [],
   "source": [
    "IMG_FOLDER: str = \"imgs\"\n",
    "OUTPUT_FOLDER: str = \"out\"\n",
    "FOLDERS: tuple = (IMG_FOLDER, OUTPUT_FOLDER)\n",
    "\n",
    "\n",
    "def create_folder(path: str) -> bool:\n",
    "    if os.path.exists(path):\n",
    "        return False\n",
    "    os.makedirs(path, exist_ok=True)\n",
    "    return True\n",
    "\n",
    "\n",
    "# If folder doesn\"t exist create it,\n",
    "# else delete all file inside of it to avoid corrupting the results\n",
    "def reset_folder(folder_path: str) -> None:\n",
    "    if not create_folder(folder_path):\n",
    "        for filename in os.listdir(folder_path):\n",
    "            file_path: str = os.path.join(folder_path, filename)\n",
    "            try:\n",
    "                if os.path.isfile(file_path) or os.path.islink(file_path):\n",
    "                    os.unlink(file_path)\n",
    "                elif os.path.isdir(file_path):\n",
    "                    shutil.rmtree(file_path)\n",
    "            except Exception as e:\n",
    "                print(\"Failed to delete %s. Reason: %s\" % (file_path, e))\n",
    "\n",
    "\n",
    "for folder in FOLDERS:\n",
    "    reset_folder(folder)"
   ]
  },
  {
   "cell_type": "markdown",
   "metadata": {},
   "source": [
    "# Utility"
   ]
  },
  {
   "cell_type": "code",
   "execution_count": 46,
   "metadata": {},
   "outputs": [],
   "source": [
    "def valid(solution: NDArray[np.int32], num_cities: int) -> bool:\n",
    "    if np.isin(solution, -1).any() or solution[0] != solution[-1]:\n",
    "        return False\n",
    "    return len(set(solution)) == num_cities\n",
    "\n",
    "\n",
    "def cost(solution: NDArray[np.int32], dist_matrix: NDArray[np.float64]) -> np.float64:\n",
    "    if not isinstance(solution, (list, np.ndarray)) and len(solution) < 1:\n",
    "        raise ValueError(f\"Solution wrong type: {type(solution)}\")\n",
    "    cumulative_dist: np.float64 = np.float64(0)\n",
    "    if not valid(solution, len(dist_matrix)):\n",
    "        return np.float64(np.inf)\n",
    "    for c1, c2 in zip(solution, solution[1:]):\n",
    "        cumulative_dist += np.float64(dist_matrix[c1, c2])\n",
    "    return cumulative_dist\n",
    "\n",
    "\n",
    "def mutation(\n",
    "    individual: NDArray[np.int32], p_multiple_mutation: float = 0.3\n",
    ") -> NDArray[np.int32]:\n",
    "    \"\"\"\n",
    "    Perform a mutation on an individual\"s genome by moving a randomly selected subset of genes to a new position.\n",
    "    # Parameters:\n",
    "    individual (NDArray[np.int32]): The genome of the individual to mutate.\n",
    "    p_multiple_mutation (float): Probability of multiple mutations (default is 0.3).\n",
    "    # Returns:\n",
    "    NDArray[np.int32]: The mutated genome.\n",
    "    The mutation process involves:\n",
    "\n",
    "        1. Selecting a random subset of genes from the genome.\n",
    "        2. Creating a probability distribution for the new position of the selected subset.\n",
    "        3. Moving the selected subset to the new position based on the probability distribution.\n",
    "    \"\"\"\n",
    "    high: int = len(individual) - 1\n",
    "    mutated_genome: NDArray[np.int32] = individual.copy()\n",
    "\n",
    "    # Select a random amount of cities\n",
    "    while True:\n",
    "        start: int = np.random.randint(1, high)\n",
    "        end: int = np.random.randint(1, high)\n",
    "        # Selecting at least 2 cities\n",
    "        if end - start >= 1:\n",
    "            break\n",
    "\n",
    "    subset_length: int = end - start\n",
    "    subset_to_move: NDArray[np.int32] = mutated_genome[start:end]\n",
    "\n",
    "    # Create a probability distribution for the new position\n",
    "    positions: NDArray[np.int32] = np.arange(1, high - subset_length)\n",
    "    distances: NDArray[np.int32] = np.abs(positions - start)\n",
    "    # Higher probability for nearby positions\n",
    "    probabilities: NDArray[np.float64] = np.exp(-distances)\n",
    "    # Normalize to sum to 1\n",
    "    probabilities /= probabilities.sum()\n",
    "\n",
    "    # Select a new position for the subset\n",
    "    new_position: NDArray[np.int32] = np.random.choice(positions, p=probabilities)\n",
    "\n",
    "    # Move the subset to the new position\n",
    "    if new_position < start:\n",
    "        mutated_genome = np.concatenate(\n",
    "            (\n",
    "                mutated_genome[:new_position],\n",
    "                subset_to_move,\n",
    "                mutated_genome[new_position:start],\n",
    "                mutated_genome[end:],\n",
    "            )\n",
    "        )\n",
    "    else:\n",
    "        mutated_genome = np.concatenate(\n",
    "            (\n",
    "                mutated_genome[:start],\n",
    "                mutated_genome[end : new_position + subset_length],\n",
    "                subset_to_move,\n",
    "                mutated_genome[new_position + subset_length :],\n",
    "            )\n",
    "        )\n",
    "\n",
    "    return mutated_genome\n",
    "\n",
    "\n",
    "def get_elites_from_population(\n",
    "    population: NDArray[np.int32],\n",
    "    dist_matrix: NDArray[np.float64],\n",
    "    k: int = 2,\n",
    ") -> NDArray[np.int32]:\n",
    "    population_cost: NDArray[np.float64] = np.array(\n",
    "        [cost(individual, dist_matrix) for individual in population]\n",
    "    )\n",
    "    sorted_indices: NDArray[np.int32] = np.argsort(population_cost)\n",
    "\n",
    "    sorted_population: NDArray[np.int32] = population[sorted_indices]\n",
    "    return sorted_population[:k]\n",
    "\n",
    "\n",
    "def xover(\n",
    "    p1: NDArray[np.int32], p2: NDArray[np.int32], num_cities: int, mutation_rate: float\n",
    ") -> NDArray[np.int32]:\n",
    "    mask: NDArray[np.bool] = np.random.rand(p1.size) < 0.5\n",
    "    # Choosing wrap-around city to be from parent 1 (parent 2 would work as well)\n",
    "    mask[0] = mask[-1] = True\n",
    "    child: NDArray[np.int32] = np.full(p1.size, -1, dtype=np.int32)\n",
    "    child[mask] = p1[mask]\n",
    "    for i in range(child.size):\n",
    "        p2_idx = 0\n",
    "        # when finding a not selected city in the child (value -1)\n",
    "        # search for the first not already visited city from parent 2\n",
    "        if child[i] == -1:\n",
    "            for p2_idx in range(p2.size):\n",
    "                if p2[p2_idx] in child:\n",
    "                    continue\n",
    "                child[i] = p2[p2_idx]\n",
    "                break\n",
    "\n",
    "    if np.random.rand() < mutation_rate:\n",
    "        # logging.debug(\"Mutating...\")\n",
    "        child = mutation(child)\n",
    "\n",
    "    # The mutation will always return a valid child, if not interrupt immediately and debug\n",
    "    assert valid(child, num_cities), f\"\"\"\n",
    "Invalid child: {child}\n",
    "p1:            {p1}\n",
    "p2:            {p2}\n",
    "\"\"\"\n",
    "    return child\n",
    "\n",
    "\n",
    "def generate_random_combinations(\n",
    "    num_individuals: int, num_combinations: int\n",
    ") -> NDArray[np.int32]:\n",
    "    # Start from 1 to avoid division by zero\n",
    "    values = np.arange(1, num_individuals + 1)\n",
    "\n",
    "    # Assign higher probability to the lower value (fittest individual) and normalize the probabilities\n",
    "    probabilities = 1 / values\n",
    "    probabilities /= probabilities.sum()\n",
    "\n",
    "    # Generate random combinations using the probability distribution\n",
    "    random_combinations = np.random.choice(\n",
    "        values, (num_combinations, 2), p=probabilities\n",
    "    )\n",
    "\n",
    "    # fix indexing starting with 0\n",
    "    random_combinations = random_combinations - 1\n",
    "    return random_combinations - 1"
   ]
  },
  {
   "cell_type": "code",
   "execution_count": 47,
   "metadata": {},
   "outputs": [
    {
     "data": {
      "text/plain": [
       "2"
      ]
     },
     "execution_count": 47,
     "metadata": {},
     "output_type": "execute_result"
    }
   ],
   "source": [
    "len(np.array([[1, 2, 3, 4, 5, 6, 7, 8, 9, 10], [1, 2, 3, 4, 5, 6, 7, 8, 9, 10]]))"
   ]
  },
  {
   "cell_type": "markdown",
   "metadata": {},
   "source": [
    "## Visual Utility"
   ]
  },
  {
   "cell_type": "code",
   "execution_count": null,
   "metadata": {},
   "outputs": [],
   "source": [
    "def save_solution(\n",
    "    country: pd.DataFrame,\n",
    "    solution: NDArray[np.int32],\n",
    "    dist_matrix: NDArray[np.float64],\n",
    "    gen: int,\n",
    "    algo_name: str,\n",
    "    country_name: str,\n",
    "    img_name_scheme: str = \"gen\",\n",
    "    display: bool = False,\n",
    ") -> None:\n",
    "    # Multi-platform (Windows, Unix) handling of folders\n",
    "    # double concatenate  e.g.\n",
    "    # imgs,family_trip,italy -> imgs/family_trip italy -> imgs/family_trip/italy\n",
    "    out_path: str = os.path.join(os.path.join(IMG_FOLDER, algo_name), country_name)\n",
    "    # Assuming the notebook is run from the start and the folder is already sterilized\n",
    "    create_folder(out_path)\n",
    "    path_lons = [country.iloc[city][\"lon\"] for city in solution]\n",
    "    path_lats = [country.iloc[city][\"lat\"] for city in solution]\n",
    "    plt.figure(figsize=(10, 8))\n",
    "    plt.scatter(country[\"lon\"], country[\"lat\"], c=\"blue\", marker=\"o\")\n",
    "    for _, city in country.iterrows():\n",
    "        plt.text(city[\"lon\"], city[\"lat\"], city[\"name\"], fontsize=9)\n",
    "    plt.plot(\n",
    "        path_lons,\n",
    "        path_lats,\n",
    "        c=\"blue\",\n",
    "        linestyle=\"-\",\n",
    "        linewidth=1,\n",
    "        marker=\"o\",\n",
    "        markerfacecolor=\"red\",\n",
    "    )\n",
    "    plt.xlabel(\"Longitude\")\n",
    "    plt.ylabel(\"Latitude\")\n",
    "    plt.title(\n",
    "        f\"Best Travel Path - Generation {gen} - Path Len {cost(solution, dist_matrix):.2f}km\"\n",
    "    )\n",
    "    plt.grid(True)\n",
    "    # plt.savefig(f\"{out_folder_name}/gen_{gen}.png\")\n",
    "    plt.savefig(os.path.join(out_path, f\"{img_name_scheme}_{gen}.png\"))\n",
    "    if display:\n",
    "        plt.show()\n",
    "    plt.close()\n",
    "\n",
    "\n",
    "def sorted_alphanumeric(data):\n",
    "    def convert(text):\n",
    "        return int(text) if text.isdigit() else text.lower()\n",
    "\n",
    "    def alphanum_key(key):\n",
    "        return [convert(c) for c in re.split(\"([0-9]+)\", key)]\n",
    "\n",
    "    return sorted(data, key=alphanum_key)\n",
    "\n",
    "\n",
    "def make_video(\n",
    "    algo_name: str, country_name: str, video_name: str | None = None\n",
    ") -> None:\n",
    "    # Multiplatform (Windows, Unix) handling of folders\n",
    "    input_path: str = os.path.join(os.path.join(IMG_FOLDER, algo_name), country_name)\n",
    "    if video_name is not None:\n",
    "        out_file_path: str = os.path.join(OUTPUT_FOLDER, f\"{video_name}.avi\")\n",
    "    else:\n",
    "        out_file_path: str = os.path.join(OUTPUT_FOLDER, f\"{country_name}.avi\")\n",
    "\n",
    "    images = [\n",
    "        img\n",
    "        for img in sorted_alphanumeric(os.listdir(input_path))\n",
    "        if img.endswith(\".png\")\n",
    "    ]\n",
    "    frame = cv2.imread(os.path.join(input_path, images[0]))\n",
    "    height, width, _ = frame.shape\n",
    "\n",
    "    video = cv2.VideoWriter(out_file_path, 0, 30, (width, height))\n",
    "\n",
    "    for image in images:\n",
    "        video.write(cv2.imread(os.path.join(input_path, image)))\n",
    "\n",
    "    cv2.destroyAllWindows()\n",
    "    video.release()\n",
    "\n",
    "\n",
    "def filter_generation_history(\n",
    "    generation_history: NDArray[np.float64],\n",
    ") -> NDArray[np.int32]:\n",
    "    # Filter out rows with more than three zeros\n",
    "    valid_rows = np.array(\n",
    "        [row for row in generation_history if np.count_nonzero(row == 0) <= 3]\n",
    "    )\n",
    "    return valid_rows\n",
    "\n",
    "\n",
    "def plot_cost_history(cost_history: NDArray[np.float64]) -> None:\n",
    "    # Accomodate algorithm find a early solution\n",
    "    filtered_history = filter_generation_history(cost_history)\n",
    "\n",
    "    plt.figure(figsize=(10, 6))\n",
    "    plt.plot(filtered_history, label=\"Cost History\")\n",
    "    plt.xlabel(\"Generation\")\n",
    "    plt.ylabel(\"Cost\")\n",
    "    plt.title(\"Cost History Over Generations\")\n",
    "    plt.legend()\n",
    "    plt.grid(True)\n",
    "\n",
    "    # Increase resolution on the y-axis\n",
    "    min_cost = filtered_history.min()\n",
    "    max_cost = filtered_history.max()\n",
    "    y_ticks = np.linspace(\n",
    "        min_cost, max_cost, num=20\n",
    "    )  # Adjust num for more or fewer ticks\n",
    "    plt.yticks(y_ticks)\n",
    "\n",
    "    # Increase resolution on the x-axis\n",
    "    num_generations = len(filtered_history)\n",
    "    x_ticks = np.linspace(\n",
    "        0, num_generations - 1, num=20, dtype=int\n",
    "    )  # Adjust num for more or fewer ticks\n",
    "    plt.xticks(x_ticks)\n",
    "\n",
    "    plt.show()\n",
    "\n",
    "\n",
    "def save_and_make_video(\n",
    "    evolution: NDArray[np.int32],\n",
    "    dist_matrix: NDArray[np.float64],\n",
    "    country_name: str,\n",
    "    video_name: str | None = None,\n",
    ") -> None:\n",
    "    algo_name = \"family_trip\"\n",
    "\n",
    "    logging.info(\"Saving the evolution...\")\n",
    "    Parallel(n_jobs=int(cpu_count()), prefer=\"processes\")(\n",
    "        delayed(save_solution)(\n",
    "            country=city_by_country_dataframes[country_name],\n",
    "            solution=evolution[gen],\n",
    "            dist_matrix=dist_matrix,\n",
    "            gen=gen,\n",
    "            algo_name=algo_name,\n",
    "            country_name=country_name,\n",
    "        )\n",
    "        for gen in tqdm(range(len(evolution)))\n",
    "    )\n",
    "\n",
    "    logging.info(\"Rendering Video...\")\n",
    "    make_video(algo_name=algo_name, country_name=country_name, video_name=video_name)\n",
    "    logging.info(\"Done!\")"
   ]
  },
  {
   "cell_type": "markdown",
   "metadata": {},
   "source": [
    "# Solution"
   ]
  },
  {
   "cell_type": "markdown",
   "metadata": {},
   "source": [
    "## Family Trip"
   ]
  },
  {
   "cell_type": "code",
   "execution_count": 49,
   "metadata": {},
   "outputs": [],
   "source": [
    "def family_trip(\n",
    "    country_name: str,\n",
    "    cities: pd.DataFrame,\n",
    "    dist_matrix: NDArray[np.float64],\n",
    "    population_size: int,\n",
    "    mutation_rate: float,\n",
    "    num_elites: int,\n",
    "    num_generations: int,\n",
    ") -> tuple[int, NDArray[np.int32], NDArray[np.float64]]:\n",
    "    assert country_name in COUNTRY_NAMES, f\"Invalid country name: {country_name}\"\n",
    "    num_cities = len(cities)\n",
    "\n",
    "    # Initialize population with random permutations of cities and make path circular\n",
    "    population: NDArray[np.int32] = np.array(\n",
    "        [np.random.permutation(num_cities) for _ in range(population_size)]\n",
    "    )\n",
    "    first_city: NDArray[np.int32] = population[:, 0].reshape(-1, 1)\n",
    "    population = np.hstack((population, first_city))\n",
    "\n",
    "    # Initialize two history arrays to store\n",
    "    # - best individual for each generations\n",
    "    # - cost history\n",
    "    best_evolution: NDArray[np.int32] = np.zeros(\n",
    "        (num_generations, num_cities + 1), dtype=np.int32\n",
    "    )\n",
    "    cost_history: NDArray[np.float64] = np.zeros(num_generations, dtype=np.float64)\n",
    "\n",
    "    # Validate the initial population\n",
    "    # i.e. all individuals must have unique cities and start and end at the same city\n",
    "    for i in range(len(population)):\n",
    "        assert valid(\n",
    "            population[i], len(dist_matrix)\n",
    "        ), f\"Invalid individual {i}th: {population[i]}\"\n",
    "\n",
    "    # Initialize tqdm progress bar\n",
    "    progress_bar = tqdm(range(num_generations), desc=\"Starting\", unit=\"gen\")\n",
    "\n",
    "    for gen in progress_bar:\n",
    "        best_evolution[gen] = population[\n",
    "            np.argmin([cost(individual, dist_matrix) for individual in population])\n",
    "        ]\n",
    "        cost_history[gen] = cost(best_evolution[gen], dist_matrix)\n",
    "\n",
    "        # some country e.g. china has no known solution\n",
    "        if (\n",
    "            countries_with_solutions[country_name] != np.inf\n",
    "            and cost_history[gen] - countries_with_solutions[country_name] < 0.01\n",
    "        ):\n",
    "            logging.info(\n",
    "                f\"SOLUTION FOUND!: Generation {gen}: total length {cost_history[gen]:.2f}km, valid: {valid(best_evolution[gen], len(dist_matrix))}\"\n",
    "            )\n",
    "            return gen, best_evolution, cost_history\n",
    "\n",
    "        progress_bar.set_description(f\"Gen {gen} Best Cost: {cost_history[gen]:.2f}km\")\n",
    "\n",
    "        elites: NDArray[np.int32] = get_elites_from_population(\n",
    "            population, dist_matrix, num_elites\n",
    "        )\n",
    "        random_elites_combinations: NDArray[np.int32] = generate_random_combinations(\n",
    "            num_elites, population_size\n",
    "        )\n",
    "        # Recreate population for the fittest\n",
    "        for n in range(population_size):\n",
    "            i1, i2 = random_elites_combinations[n]\n",
    "            # crossover from two parent with mutation and reshape the output into a row\n",
    "            child: NDArray[np.int32] = xover(\n",
    "                elites[i1], elites[i2], len(dist_matrix), mutation_rate=mutation_rate\n",
    "            ).reshape(1, -1)\n",
    "            population = np.append(population, child, axis=0)\n",
    "        # TODO: consider initialize population as population_size * NUM_GENERATIONS\n",
    "        # and for each iteration translate the view of the array\n",
    "        population = population[-population_size:].copy()\n",
    "\n",
    "    best_traveler: NDArray[np.int32] = population[\n",
    "        np.argmin([cost(individual, dist_matrix) for individual in population])\n",
    "    ]\n",
    "    logging.info(\n",
    "        f\"Result: Found a path of {len(best_traveler)-1} steps, total length {cost(best_traveler, dist_matrix):.2f}km, valid: {valid(best_traveler, len(dist_matrix))}\"\n",
    "    )\n",
    "    return num_generations, best_evolution, cost_history"
   ]
  },
  {
   "cell_type": "code",
   "execution_count": 50,
   "metadata": {},
   "outputs": [],
   "source": [
    "logging.basicConfig(format=\"%(levelname)s: %(message)s\", level=logging.INFO)\n",
    "\n",
    "POPULATION_SIZE = 50\n",
    "MUTATION_RATE = 0.4\n",
    "NUM_ELITES = 3\n",
    "NUM_GENERATIONS = 200\n",
    "\n",
    "problem_params = {}\n",
    "for country_name in COUNTRY_NAMES:\n",
    "    match country_name:\n",
    "        # reduce the problem size for china to speed up the computation\n",
    "        case \"china\":\n",
    "            problem_params[country_name] = {\n",
    "                \"population_size\": 20,\n",
    "                \"mutation_rate\": 0.5,\n",
    "                \"num_elites\": 2,\n",
    "                \"num_generations\": 50,\n",
    "            }\n",
    "        case \"italy\" | \"russia\" | \"us\" | \"vanuatu\":\n",
    "            problem_params[country_name] = {\n",
    "                \"population_size\": POPULATION_SIZE,\n",
    "                \"mutation_rate\": MUTATION_RATE,\n",
    "                \"num_elites\": NUM_ELITES,\n",
    "                \"num_generations\": NUM_GENERATIONS,\n",
    "            }\n",
    "        case _:\n",
    "            raise ValueError(f\"Sorry, I didn't consider this country: {country_name}\")"
   ]
  },
  {
   "cell_type": "code",
   "execution_count": null,
   "metadata": {},
   "outputs": [
    {
     "name": "stderr",
     "output_type": "stream",
     "text": [
      "INFO: Running for china...\n"
     ]
    },
    {
     "data": {
      "application/vnd.jupyter.widget-view+json": {
       "model_id": "3835cc40c0694157bd31651ea61e6374",
       "version_major": 2,
       "version_minor": 0
      },
      "text/plain": [
       "Starting:   0%|          | 0/50 [00:00<?, ?gen/s]"
      ]
     },
     "metadata": {},
     "output_type": "display_data"
    },
    {
     "name": "stderr",
     "output_type": "stream",
     "text": [
      "INFO: Result: Found a path of 726 steps, total length 876605.29km, valid: True\n",
      "INFO: Saving the evolution...\n"
     ]
    },
    {
     "data": {
      "application/vnd.jupyter.widget-view+json": {
       "model_id": "f5873a77db3c4a12b73c66e9bd108cb7",
       "version_major": 2,
       "version_minor": 0
      },
      "text/plain": [
       "  0%|          | 0/50 [00:00<?, ?it/s]"
      ]
     },
     "metadata": {},
     "output_type": "display_data"
    },
    {
     "name": "stderr",
     "output_type": "stream",
     "text": [
      "INFO: Rendering Video...\n",
      "INFO: Done!\n",
      "INFO: Running for italy...\n"
     ]
    },
    {
     "data": {
      "application/vnd.jupyter.widget-view+json": {
       "model_id": "299a8f5f1c924cf78bf503354a61ef00",
       "version_major": 2,
       "version_minor": 0
      },
      "text/plain": [
       "Starting:   0%|          | 0/200 [00:00<?, ?gen/s]"
      ]
     },
     "metadata": {},
     "output_type": "display_data"
    },
    {
     "name": "stderr",
     "output_type": "stream",
     "text": [
      "INFO: Result: Found a path of 46 steps, total length 6473.74km, valid: True\n",
      "INFO: Saving the evolution...\n"
     ]
    },
    {
     "data": {
      "application/vnd.jupyter.widget-view+json": {
       "model_id": "c75d93632a5f4151b9ae95aa783d97ac",
       "version_major": 2,
       "version_minor": 0
      },
      "text/plain": [
       "  0%|          | 0/200 [00:00<?, ?it/s]"
      ]
     },
     "metadata": {},
     "output_type": "display_data"
    },
    {
     "name": "stderr",
     "output_type": "stream",
     "text": [
      "INFO: Rendering Video...\n",
      "INFO: Done!\n",
      "INFO: Running for russia...\n"
     ]
    },
    {
     "data": {
      "application/vnd.jupyter.widget-view+json": {
       "model_id": "975f40ab42e5447b9304746ea5a3dad1",
       "version_major": 2,
       "version_minor": 0
      },
      "text/plain": [
       "Starting:   0%|          | 0/200 [00:00<?, ?gen/s]"
      ]
     },
     "metadata": {},
     "output_type": "display_data"
    },
    {
     "name": "stderr",
     "output_type": "stream",
     "text": [
      "INFO: Result: Found a path of 167 steps, total length 131595.99km, valid: True\n",
      "INFO: Saving the evolution...\n"
     ]
    },
    {
     "data": {
      "application/vnd.jupyter.widget-view+json": {
       "model_id": "e5b6a7f4d73c4cbf95e82d3fb46261c8",
       "version_major": 2,
       "version_minor": 0
      },
      "text/plain": [
       "  0%|          | 0/200 [00:00<?, ?it/s]"
      ]
     },
     "metadata": {},
     "output_type": "display_data"
    },
    {
     "name": "stderr",
     "output_type": "stream",
     "text": [
      "INFO: Rendering Video...\n",
      "INFO: Done!\n",
      "INFO: Running for us...\n"
     ]
    },
    {
     "data": {
      "application/vnd.jupyter.widget-view+json": {
       "model_id": "e36034750c8041d7a04968c02b1f3d14",
       "version_major": 2,
       "version_minor": 0
      },
      "text/plain": [
       "Starting:   0%|          | 0/200 [00:00<?, ?gen/s]"
      ]
     },
     "metadata": {},
     "output_type": "display_data"
    },
    {
     "name": "stderr",
     "output_type": "stream",
     "text": [
      "INFO: Result: Found a path of 326 steps, total length 325068.97km, valid: True\n",
      "INFO: Saving the evolution...\n"
     ]
    },
    {
     "data": {
      "application/vnd.jupyter.widget-view+json": {
       "model_id": "500dcca565b14883a74949b3b3d3b448",
       "version_major": 2,
       "version_minor": 0
      },
      "text/plain": [
       "  0%|          | 0/200 [00:00<?, ?it/s]"
      ]
     },
     "metadata": {},
     "output_type": "display_data"
    },
    {
     "name": "stderr",
     "output_type": "stream",
     "text": [
      "INFO: Rendering Video...\n",
      "INFO: Done!\n",
      "INFO: Running for vanuatu...\n"
     ]
    },
    {
     "data": {
      "application/vnd.jupyter.widget-view+json": {
       "model_id": "40a659fe4d334d97856236daea31b525",
       "version_major": 2,
       "version_minor": 0
      },
      "text/plain": [
       "Starting:   0%|          | 0/200 [00:00<?, ?gen/s]"
      ]
     },
     "metadata": {},
     "output_type": "display_data"
    },
    {
     "name": "stderr",
     "output_type": "stream",
     "text": [
      "INFO: SOLUTION FOUND!: Generation 7: total length 1345.54km, valid: True\n",
      "INFO: Saving the evolution...\n"
     ]
    },
    {
     "data": {
      "application/vnd.jupyter.widget-view+json": {
       "model_id": "0767bb5160d1400cb4f3e8f25fd34b4a",
       "version_major": 2,
       "version_minor": 0
      },
      "text/plain": [
       "  0%|          | 0/200 [00:00<?, ?it/s]"
      ]
     },
     "metadata": {},
     "output_type": "display_data"
    },
    {
     "name": "stderr",
     "output_type": "stream",
     "text": [
      "INFO: Rendering Video...\n",
      "INFO: Done!\n"
     ]
    }
   ],
   "source": [
    "final_results = {}\n",
    "\n",
    "for country_name in COUNTRY_NAMES:\n",
    "    cities: pd.DataFrame = city_by_country_dataframes[country_name]\n",
    "    dist_matrix: NDArray[np.float64] = countries_dist_matrices[country_name]\n",
    "    logging.info(f\"Running for {country_name}...\")\n",
    "    generations_computed, best_evolution, cost_history = family_trip(\n",
    "        country_name=country_name,\n",
    "        dist_matrix=dist_matrix,\n",
    "        cities=cities,\n",
    "        population_size=problem_params[country_name].get(\"population_size\"),\n",
    "        mutation_rate=problem_params[country_name].get(\"mutation_rate\"),\n",
    "        num_elites=problem_params[country_name].get(\"num_elites\"),\n",
    "        num_generations=problem_params[country_name].get(\"num_generations\"),\n",
    "    )\n",
    "    final_results[country_name] = {\n",
    "        \"population_size\": problem_params[country_name].get(\"population_size\"),\n",
    "        \"mutation_rate\": problem_params[country_name].get(\"mutation_rate\"),\n",
    "        \"num_elites\": problem_params[country_name].get(\"num_elites\"),\n",
    "        \"num_generations\": generations_computed,\n",
    "        \"final_cost\": cost_history[generations_computed],\n",
    "    }\n",
    "    # plot_cost_history(cost_history)\n",
    "    save_and_make_video(best_evolution, dist_matrix, country_name)"
   ]
  },
  {
   "cell_type": "code",
   "execution_count": 53,
   "metadata": {},
   "outputs": [],
   "source": [
    "final_results[country_name] = {\n",
    "        \"population_size\": problem_params[country_name].get(\"population_size\"),\n",
    "        \"mutation_rate\": problem_params[country_name].get(\"mutation_rate\"),\n",
    "        \"num_elites\": problem_params[country_name].get(\"num_elites\"),\n",
    "        \"num_generations\": generations_computed,\n",
    "        \"final_cost\": cost_history[generations_computed],\n",
    "    }"
   ]
  },
  {
   "cell_type": "code",
   "execution_count": 54,
   "metadata": {},
   "outputs": [
    {
     "name": "stdout",
     "output_type": "stream",
     "text": [
      "|Country|Population Size|Mutation Rate|Num Elites|Num Generations|Final Cost|Known Solution|\n",
      "|---|---|---|---|---|---|---|\n",
      "|china|20|0.5|2|50|877373.82km|inf|\n",
      "|italy|50|0.4|3|200|6473.74km|4172.76|\n",
      "|russia|50|0.4|3|200|131595.99km|32722.5|\n",
      "|us|50|0.4|3|200|326431.43km|39016.59|\n",
      "|vanuatu|50|0.4|3|7|1345.54km|1345.54|\n"
     ]
    }
   ],
   "source": [
    "print(\n",
    "    \"|Country|Population Size|Mutation Rate|Num Elites|Num Generations|Final Cost|Known Solution|\"\n",
    ")\n",
    "print(\"|---|---|---|---|---|---|---|\")\n",
    "for country_name, result in final_results.items():\n",
    "    print(\n",
    "        f\"|{country_name}|{result['population_size']}|{result['mutation_rate']}|{result['num_elites']}|{result['num_generations']}|{result['final_cost']:.2f}km|{countries_with_solutions[country_name]}|\"\n",
    "    )"
   ]
  }
 ],
 "metadata": {
  "kernelspec": {
   "display_name": "ci-AgYSsWFT-py3.12",
   "language": "python",
   "name": "python3"
  },
  "language_info": {
   "codemirror_mode": {
    "name": "ipython",
    "version": 3
   },
   "file_extension": ".py",
   "mimetype": "text/x-python",
   "name": "python",
   "nbconvert_exporter": "python",
   "pygments_lexer": "ipython3",
   "version": "3.12.7"
  }
 },
 "nbformat": 4,
 "nbformat_minor": 2
}
